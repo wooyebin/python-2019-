{
 "cells": [
  {
   "cell_type": "code",
   "execution_count": 45,
   "metadata": {
    "scrolled": true
   },
   "outputs": [
    {
     "name": "stdout",
     "output_type": "stream",
     "text": [
      "대구 월별 평균 일교차\n",
      "2009.5: 12.6\n",
      "2010.11: 11.7\n",
      "2011.4: 11.8\n",
      "2012.4: 11.8\n",
      "2013.3: 13.3\n",
      "2014.5: 12.9\n",
      "2015.5: 12.6\n",
      "2016.5: 13.1\n",
      "2017.5: 13.0\n",
      "2018.4: 12.5\n"
     ]
    },
    {
     "data": {
      "image/png": "[encoded data removed]",
      "text/plain": [
       "<Figure size 720x360 with 1 Axes>"
      ]
     },
     "metadata": {
      "needs_background": "light"
     },
     "output_type": "display_data"
    }
   ],
   "source": [
    "# 2019112801 우예빈\n",
    "# 가장 추웠던 달과 가장 더웠던 달\n",
    "\n",
    "import csv\n",
    "import matplotlib.pyplot as plt\n",
    "\n",
    "f= open('daegu.csv', 'r', encoding = 'euc_kr')\n",
    "data = csv.reader(f)\n",
    "header = next(data)\n",
    "\n",
    "monthData = []\n",
    "tempData = []\n",
    "for row in data:\n",
    "    year = row[0][0:4]\n",
    "    if (int(year)>=2009)and(int(year)<=2018):\n",
    "        if row[-1] !=\"\" and row[-2]!=\"\":\n",
    "            if row[0][6] == \".\":\n",
    "                month = row[0][5]\n",
    "            else:\n",
    "                month = row[0][5:7]\n",
    "            date = year+'.'+month\n",
    "            temp =float(row[-1]) - float(row[-2])\n",
    "            if date not in monthData:\n",
    "                monthData.append(date)\n",
    "                tempData.append([temp])\n",
    "            else:\n",
    "                index = monthData.index(date)\n",
    "                tempData[index].append(temp)\n",
    "\n",
    "f.close()\n",
    "for i in range(len(tempData)):\n",
    "    tempData[i] = round(sum(tempData[i])/len(tempData[i]), 1)\n",
    "\n",
    "year_by_year = []\n",
    "month_by_year = []\n",
    "temp_by_year = []\n",
    "for i in range(len(monthData)):\n",
    "    if monthData[i][0:4] in year_by_year:\n",
    "        indexing = year_by_year.index(monthData[i][0:4])\n",
    "        temp_by_year[indexing].append(tempData[i])\n",
    "        j = year_by_year.index(monthData[i][0:4])\n",
    "        month_by_year[j].append(monthData[i])\n",
    "    else:\n",
    "        year_by_year.append(monthData[i][0:4])\n",
    "        temp_by_year.append([tempData[i]])\n",
    "        month_by_year.append([monthData[i]])\n",
    "\n",
    "max_temp_by_year = []\n",
    "max_month_by_year = []\n",
    "for i in range(len(temp_by_year)):\n",
    "    maxTemp = max(temp_by_year[i])\n",
    "    max_temp_by_year.append(maxTemp)\n",
    "    idx = temp_by_year[i].index(maxTemp)\n",
    "    max_month_by_year.append(month_by_year[i][idx])\n",
    "    \n",
    "print(\"대구 월별 평균 일교차\")\n",
    "for i in range(len(max_temp_by_year)):\n",
    "    print(\"{0}: {1}\".format(max_month_by_year[i], max_temp_by_year[i]))\n",
    "    \n",
    "    \n",
    "plt.figure(figsize=(10, 5))\n",
    "plt.rc('font', family = 'Malgun Gothic')\n",
    "plt.bar(max_month_by_year, max_temp_by_year)\n",
    "plt.title(\"2009년부터 2018년까지 대구의 평균 일교차가 가장 큰 달\")\n",
    "plt.show()"
   ]
  },
  {
   "cell_type": "code",
   "execution_count": null,
   "metadata": {},
   "outputs": [],
   "source": []
  },
  {
   "cell_type": "code",
   "execution_count": null,
   "metadata": {},
   "outputs": [],
   "source": []
  }
 ],
 "metadata": {
  "kernelspec": {
   "display_name": "Python 3",
   "language": "python",
   "name": "python3"
  },
  "language_info": {
   "codemirror_mode": {
    "name": "ipython",
    "version": 3
   },
   "file_extension": ".py",
   "mimetype": "text/x-python",
   "name": "python",
   "nbconvert_exporter": "python",
   "pygments_lexer": "ipython3",
   "version": "3.7.3"
  }
 },
 "nbformat": 4,
 "nbformat_minor": 2
}
